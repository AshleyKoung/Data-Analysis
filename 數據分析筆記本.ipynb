{
  "nbformat": 4,
  "nbformat_minor": 0,
  "metadata": {
    "colab": {
      "provenance": [],
      "authorship_tag": "ABX9TyPW6laMNoke0pJk/7D68LQD",
      "include_colab_link": true
    },
    "kernelspec": {
      "name": "python3",
      "display_name": "Python 3"
    },
    "language_info": {
      "name": "python"
    }
  },
  "cells": [
    {
      "cell_type": "markdown",
      "metadata": {
        "id": "view-in-github",
        "colab_type": "text"
      },
      "source": [
        "<a href=\"https://colab.research.google.com/github/AshleyKoung/Data-Analysis/blob/main/%E6%95%B8%E6%93%9A%E5%88%86%E6%9E%90%E7%AD%86%E8%A8%98%E6%9C%AC.ipynb\" target=\"_parent\"><img src=\"https://colab.research.google.com/assets/colab-badge.svg\" alt=\"Open In Colab\"/></a>"
      ]
    },
    {
      "cell_type": "code",
      "execution_count": null,
      "metadata": {
        "id": "gU8MEaCSdPoj"
      },
      "outputs": [],
      "source": [
        "#繪製長條圖橫條圖堆疊圖\n",
        "import pandas as pd\n",
        "import matplotlib\n",
        "from matplotlib.font_manager import fontManager\n",
        "\n",
        "fontManager.addfont('TaipeiSansTCBeta-Regular.ttf')\n",
        "matplotlib.rc('font', family='Taipei Sans TC Beta')\n",
        "\n",
        "\n",
        "df= pd.DataFrame([[250,320,300,312,280],\n",
        "                 [280,300,280,290,310],\n",
        "                 [220,280,250,305,250]],\n",
        "                 index=['北部','中部','南部'],\n",
        "                 columns=[2015,2016,2017,2018,2019])\n",
        "\n",
        "\n",
        "g1=df.plot(kind='bar',title ='長條圖', figsize=[10,5])\n",
        "g1=df.plot(kind='barh',title ='橫條圖', figsize=[10,5])\n",
        "g1=df.plot(kind='barh',stacked=True, title ='堆疊圖', figsize=[10,5])"
      ]
    }
  ]
}