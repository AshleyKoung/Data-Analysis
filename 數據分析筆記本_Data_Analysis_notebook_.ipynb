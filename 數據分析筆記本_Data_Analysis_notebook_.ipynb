{
  "nbformat": 4,
  "nbformat_minor": 0,
  "metadata": {
    "colab": {
      "provenance": [],
      "authorship_tag": "ABX9TyN+XGmzKm7upYeRPEvgXPTO",
      "include_colab_link": true
    },
    "kernelspec": {
      "name": "python3",
      "display_name": "Python 3"
    },
    "language_info": {
      "name": "python"
    }
  },
  "cells": [
    {
      "cell_type": "markdown",
      "metadata": {
        "id": "view-in-github",
        "colab_type": "text"
      },
      "source": [
        "<a href=\"https://colab.research.google.com/github/AshleyKoung/Data-Analysis/blob/main/%E6%95%B8%E6%93%9A%E5%88%86%E6%9E%90%E7%AD%86%E8%A8%98%E6%9C%AC_Data_Analysis_notebook_.ipynb\" target=\"_parent\"><img src=\"https://colab.research.google.com/assets/colab-badge.svg\" alt=\"Open In Colab\"/></a>"
      ]
    },
    {
      "cell_type": "code",
      "execution_count": null,
      "metadata": {
        "id": "7XOLmWbPW17h"
      },
      "outputs": [],
      "source": []
    }
  ]
}